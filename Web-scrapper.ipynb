{
 "cells": [
  {
   "cell_type": "code",
   "execution_count": 3,
   "id": "2b2f9240-593f-4df5-b2f8-04648bab98f5",
   "metadata": {},
   "outputs": [],
   "source": [
    "from bs4 import BeautifulSoup\n",
    "import requests\n",
    "import smtplib\n",
    "import time\n",
    "import datetime\n",
    "\n",
    "import smtplib"
   ]
  },
  {
   "cell_type": "code",
   "execution_count": 27,
   "id": "1d7914ec-4d34-4d14-a784-cd7c100505e4",
   "metadata": {},
   "outputs": [
    {
     "name": "stdout",
     "output_type": "stream",
     "text": [
      "₹799.00\n"
     ]
    }
   ],
   "source": [
    "URL = 'https://www.amazon.in/ABLING-Trust-Data-Scientist-Tee/dp/B0CWS1PSXM/ref=sr_1_4?crid=13GZ6C8KE2C07&dib=eyJ2IjoiMSJ9.EkFu8ZndNLnSqdsrbxi1MXf88xYk3DYxQB3fdcyqJcO40fGMEY0s19ZbSFqm91866od787ezzqSwiZnwjzP2xw4N7L7dgqf2IbKwTatlWItbRODmqpvTbWi7ZILngFGdjwqsRFofNeZS0lrWKwKqHo1rNuGC0N_JlCRzjlTKwpM.2tjpGtEthTEFyT3ECf2kJLdoPrjbSuZ_Y4rQjRWk_X0&dib_tag=se&keywords=data%2Banalyst%2Btshirt&qid=1720097667&sprefix=data%2Banalyst%2Btshirt%2Caps%2C590&sr=8-4'\n",
    "\n",
    "\n",
    "headers = {\"User-Agent\": \"Mozilla/5.0 (Windows NT 10.0; Win64; x64) AppleWebKit/537.36 (KHTML, like Gecko) Chrome/78.0.3904.108 Safari/537.36\", \"Accept-Encoding\":\"gzip, deflate\", \"Accept\":\"text/html,application/xhtml+xml,application/xml;q=0.9,*/*;q=0.8\", \"DNT\":\"1\",\"Connection\":\"close\", \"Upgrade-Insecure-Requests\":\"1\"}\n",
    "page = requests.get(URL, headers=headers)\n",
    "soup1 = BeautifulSoup(page.content, \"html.parser\")\n",
    "soup2 = BeautifulSoup(soup1.prettify(), \"html.parser\")\n",
    "\n",
    "title= soup2.find(id='productTitle').get_text()\n",
    "# price= soup2.find(id='priceblock_ourprice').get_text()\n",
    "\n",
    "price_symbol = soup2.find(class_='a-price-symbol').get_text(strip = True)\n",
    "price_whole = soup2.find(class_='a-price-whole').get_text(strip = True)\n",
    "price_fraction = soup2.find(class_='a-price-fraction').get_text(strip = True)\n",
    "\n",
    "price = f'{price_symbol}{price_whole}.{price_fraction}'\n",
    "\n",
    "print(price)"
   ]
  },
  {
   "cell_type": "code",
   "execution_count": 28,
   "id": "4694bedf-7e1f-4af3-9cac-f116072889b6",
   "metadata": {},
   "outputs": [
    {
     "name": "stdout",
     "output_type": "stream",
     "text": [
      "ABLING Trust A Data Scientist Tee – Men's Smart Casual Lounge Round Neck Black T-Shirt for Tech Enthusiasts, Super Combed Cotton 200gsm+ Fabric, Graphic Print Tshirts, Professional Humor\n",
      "799.00\n"
     ]
    }
   ],
   "source": [
    "# Clean up the data a little bit\n",
    "\n",
    "price = price.strip()[1:]\n",
    "title = title.strip()\n",
    "\n",
    "print(title)\n",
    "print(price)\n"
   ]
  },
  {
   "cell_type": "code",
   "execution_count": 29,
   "id": "4ff51e58-ed1c-4d1b-b280-61028443fd21",
   "metadata": {},
   "outputs": [
    {
     "name": "stdout",
     "output_type": "stream",
     "text": [
      "2024-07-04\n"
     ]
    }
   ],
   "source": [
    "\n",
    "# Create a Timestamp for your output to track when data was collected\n",
    "\n",
    "import datetime\n",
    "\n",
    "today = datetime.date.today()\n",
    "\n",
    "print(today)"
   ]
  },
  {
   "cell_type": "code",
   "execution_count": 30,
   "id": "db4460a7-2b0a-4d9d-81fd-9e8d86cdf5f1",
   "metadata": {},
   "outputs": [],
   "source": [
    "import csv \n",
    "\n",
    "header = ['Title', 'Price', 'Date']\n",
    "data = [title, price, today]\n",
    "\n",
    "\n",
    "with open('AmazonWebScraperDataset.csv', 'w', newline='', encoding='UTF8') as f:\n",
    "    writer = csv.writer(f)\n",
    "    writer.writerow(header)\n",
    "    writer.writerow(data)"
   ]
  },
  {
   "cell_type": "code",
   "execution_count": 32,
   "id": "6b795cee-1e14-48e6-963e-424c3ed2eaaa",
   "metadata": {},
   "outputs": [
    {
     "name": "stdout",
     "output_type": "stream",
     "text": [
      "                                               Title  Price        Date\n",
      "0  ABLING Trust A Data Scientist Tee – Men's Smar...  799.0  2024-07-04\n"
     ]
    }
   ],
   "source": [
    "import pandas as pd\n",
    "\n",
    "df = pd.read_csv(r'C:\\\\Users\\\\Aditi Sharma\\\\projec\\\\AmazonWebScraperDataset.csv')\n",
    "\n",
    "print(df)"
   ]
  },
  {
   "cell_type": "code",
   "execution_count": 33,
   "id": "95373d4b-adf5-4866-b05b-f0eeeb613688",
   "metadata": {},
   "outputs": [],
   "source": [
    "\n",
    "#Now we are appending data to the csv\n",
    "\n",
    "with open('AmazonWebScraperDataset.csv', 'a+', newline='', encoding='UTF8') as f:\n",
    "    writer = csv.writer(f)\n",
    "    writer.writerow(data)"
   ]
  },
  {
   "cell_type": "code",
   "execution_count": null,
   "id": "f73e3c06-98a4-41ce-84ed-00457277c677",
   "metadata": {},
   "outputs": [],
   "source": [
    "def check_price():\n",
    "    URL = 'https://www.amazon.in/ABLING-Trust-Data-Scientist-Tee/dp/B0CWS1PSXM/ref=sr_1_4?crid=13GZ6C8KE2C07&dib=eyJ2IjoiMSJ9.EkFu8ZndNLnSqdsrbxi1MXf88xYk3DYxQB3fdcyqJcO40fGMEY0s19ZbSFqm91866od787ezzqSwiZnwjzP2xw4N7L7dgqf2IbKwTatlWItbRODmqpvTbWi7ZILngFGdjwqsRFofNeZS0lrWKwKqHo1rNuGC0N_JlCRzjlTKwpM.2tjpGtEthTEFyT3ECf2kJLdoPrjbSuZ_Y4rQjRWk_X0&dib_tag=se&keywords=data%2Banalyst%2Btshirt&qid=1720097667&sprefix=data%2Banalyst%2Btshirt%2Caps%2C590&sr=8-4'\n",
    "\n",
    "    headers = {\"User-Agent\": \"Mozilla/5.0 (Windows NT 10.0; Win64; x64) AppleWebKit/537.36 (KHTML, like Gecko) Chrome/78.0.3904.108 Safari/537.36\", \"Accept-Encoding\":\"gzip, deflate\", \"Accept\":\"text/html,application/xhtml+xml,application/xml;q=0.9,*/*;q=0.8\", \"DNT\":\"1\",\"Connection\":\"close\", \"Upgrade-Insecure-Requests\":\"1\"}\n",
    "\n",
    "    page = requests.get(URL, headers=headers)\n",
    "\n",
    "    soup1 = BeautifulSoup(page.content, \"html.parser\")\n",
    "\n",
    "    soup2 = BeautifulSoup(soup1.prettify(), \"html.parser\")\n",
    "\n",
    "    title = soup2.find(id='productTitle').get_text()\n",
    "\n",
    "    \n",
    "    price_symbol = soup2.find(class_='a-price-symbol').get_text(strip = True)\n",
    "    price_whole = soup2.find(class_='a-price-whole').get_text(strip = True)\n",
    "    price_fraction = soup2.find(class_='a-price-fraction').get_text(strip = True)\n",
    "\n",
    "    price = f'{price_symbol}{price_whole}.{price_fraction}'\n",
    "    price = price.strip()[1:]\n",
    "    title = title.strip()\n",
    "\n",
    "    import datetime\n",
    "\n",
    "    today = datetime.date.today()\n",
    "    \n",
    "    import csv \n",
    "\n",
    "    header = ['Title', 'Price', 'Date']\n",
    "    data = [title, price, today]\n",
    "\n",
    "    with open('AmazonWebScraperDataset.csv', 'a+', newline='', encoding='UTF8') as f:\n",
    "        writer = csv.writer(f)\n",
    "        writer.writerow(data)\n",
    "\n",
    "   if(price<500):\n",
    "      send_mail()"
   ]
  },
  {
   "cell_type": "code",
   "execution_count": null,
   "id": "1561ae90-6147-4bac-9c57-599dd98fd733",
   "metadata": {},
   "outputs": [],
   "source": [
    "while(True):\n",
    "    check_price()\n",
    "    time.sleep(86400)"
   ]
  },
  {
   "cell_type": "code",
   "execution_count": null,
   "id": "93f87e78-4554-4cf7-9071-cff74217bc2d",
   "metadata": {},
   "outputs": [],
   "source": [
    "\n",
    "def send_mail():\n",
    "    server = smtplib.SMTP_SSL('smtp.gmail.com',465)\n",
    "    server.ehlo()\n",
    "    #server.starttls()\n",
    "    server.ehlo()\n",
    "    server.login('aditisharma232014@gmail.com','xxxxxxxxxxxxxx')\n",
    "    \n",
    "    subject = \"The Shirt you want is below $15! Now is your chance to buy!\"\n",
    "    body = \"Alex, This is the moment we have been waiting for. Now is your chance to pick up the shirt of your dreams. Don't mess it up! Link here: https://www.amazon.com/Funny-Data-Systems-Business-Analyst/dp/B07FNW9FGJ/ref=sr_1_3?dchild=1&keywords=data+analyst+tshirt&qid=1626655184&sr=8-3\"\n",
    "   \n",
    "    msg = f\"Subject: {subject}\\n\\n{body}\"\n",
    "    \n",
    "    server.sendmail(\n",
    "        'aditisharma232014@gmail.com',\n",
    "        msg\n",
    "     \n",
    "    )"
   ]
  }
 ],
 "metadata": {
  "kernelspec": {
   "display_name": "Python 3 (ipykernel)",
   "language": "python",
   "name": "python3"
  },
  "language_info": {
   "codemirror_mode": {
    "name": "ipython",
    "version": 3
   },
   "file_extension": ".py",
   "mimetype": "text/x-python",
   "name": "python",
   "nbconvert_exporter": "python",
   "pygments_lexer": "ipython3",
   "version": "3.11.5"
  }
 },
 "nbformat": 4,
 "nbformat_minor": 5
}
